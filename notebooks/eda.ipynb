{
 "cells": [
  {
   "cell_type": "code",
   "execution_count": null,
   "metadata": {
    "vscode": {
     "languageId": "plaintext"
    }
   },
   "outputs": [],
   "source": [
    "import matplotlib.pyplot as plt\n",
    "import pandas as pd\n",
    "from statsmodels.tsa.seasonal import seasonal_decompose"
   ]
  },
  {
   "cell_type": "code",
   "execution_count": null,
   "metadata": {
    "vscode": {
     "languageId": "plaintext"
    }
   },
   "outputs": [],
   "source": [
    "# Load the dataset\n",
    "file_path = \"ett.csv\"\n",
    "df = pd.read_csv(file_path)\n",
    "\n",
    "# Display basic info and first few rows\n",
    "df.info(), df.head()\n",
    "\n",
    "# Convert 'date' column to datetime format\n",
    "df['date'] = pd.to_datetime(df['date'], format=\"%d/%m/%Y %H:%M\")\n",
    "\n",
    "# Set 'date' as the index for time series analysis\n",
    "df.set_index('date', inplace=True)\n",
    "\n",
    "# Basic statistical summary\n",
    "summary_stats = df.describe()"
   ]
  },
  {
   "cell_type": "code",
   "execution_count": null,
   "metadata": {
    "vscode": {
     "languageId": "plaintext"
    }
   },
   "outputs": [],
   "source": [
    "# Plot the OT (Oil Temperature) trend over time\n",
    "\n",
    "jp_font = fm.FontProperties(fname='fonts/NotoSansCJKjp-Regular.ttf')\n",
    "# rcParamsを更新\n",
    "plt.rcParams['font.family'] = jp_font.get_name()\n",
    "\n",
    "plt.figure(figsize=(12, 5))\n",
    "plt.plot(df.index, df['OT'], label=\"油温 (OT)\", color=\"tab:blue\")\n",
    "plt.xlabel(\"日付\")\n",
    "plt.ylabel(\"温度 (°C)\")\n",
    "plt.title(\"油温の時間変化\")\n",
    "plt.legend()\n",
    "plt.grid()\n",
    "plt.show()"
   ]
  }
 ],
 "metadata": {
  "language_info": {
   "name": "python"
  }
 },
 "nbformat": 4,
 "nbformat_minor": 2
}
